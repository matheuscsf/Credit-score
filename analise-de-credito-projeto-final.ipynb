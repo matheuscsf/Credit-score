{
 "cells": [
  {
   "cell_type": "code",
   "execution_count": 1,
   "id": "affa8a46",
   "metadata": {
    "execution": {
     "iopub.execute_input": "2024-03-13T23:35:36.858087Z",
     "iopub.status.busy": "2024-03-13T23:35:36.857512Z",
     "iopub.status.idle": "2024-03-13T23:35:36.871627Z",
     "shell.execute_reply": "2024-03-13T23:35:36.870491Z"
    },
    "papermill": {
     "duration": 0.038418,
     "end_time": "2024-03-13T23:35:36.874407",
     "exception": false,
     "start_time": "2024-03-13T23:35:36.835989",
     "status": "completed"
    },
    "tags": []
   },
   "outputs": [],
   "source": [
    "# Importações de biblioteca padrão.\n",
    "import csv"
   ]
  },
  {
   "cell_type": "code",
   "execution_count": 2,
   "id": "d08f9077",
   "metadata": {
    "execution": {
     "iopub.execute_input": "2024-03-13T23:35:36.914746Z",
     "iopub.status.busy": "2024-03-13T23:35:36.914335Z",
     "iopub.status.idle": "2024-03-13T23:35:39.110686Z",
     "shell.execute_reply": "2024-03-13T23:35:39.109604Z"
    },
    "papermill": {
     "duration": 2.219706,
     "end_time": "2024-03-13T23:35:39.113505",
     "exception": false,
     "start_time": "2024-03-13T23:35:36.893799",
     "status": "completed"
    },
    "tags": []
   },
   "outputs": [],
   "source": [
    "# Importações de terceiros relacionadas.\n",
    "import pandas as pd\n",
    "import seaborn as sns\n",
    "import matplotlib.pyplot as plt\n",
    "\n",
    "sns.set_style('whitegrid')"
   ]
  },
  {
   "cell_type": "markdown",
   "id": "26025846",
   "metadata": {
    "execution": {
     "iopub.execute_input": "2024-03-12T01:13:19.187680Z",
     "iopub.status.busy": "2024-03-12T01:13:19.187126Z",
     "iopub.status.idle": "2024-03-12T01:13:19.194404Z",
     "shell.execute_reply": "2024-03-12T01:13:19.193063Z",
     "shell.execute_reply.started": "2024-03-12T01:13:19.187648Z"
    },
    "papermill": {
     "duration": 0.01867,
     "end_time": "2024-03-13T23:35:39.151174",
     "exception": false,
     "start_time": "2024-03-13T23:35:39.132504",
     "status": "completed"
    },
    "tags": []
   },
   "source": [
    "# Fase 1: Preparação e Análise Preliminar"
   ]
  },
  {
   "cell_type": "markdown",
   "id": "65d542f6",
   "metadata": {
    "papermill": {
     "duration": 0.018632,
     "end_time": "2024-03-13T23:35:39.189773",
     "exception": false,
     "start_time": "2024-03-13T23:35:39.171141",
     "status": "completed"
    },
    "tags": []
   },
   "source": [
    "O ponto de partida foi a cuidadosa importação dos dados através do arquivo \"python-m10-support-material.csv\", que abrigava informações cruciais para o estudo. Utilizando Pandas para carregar e visualizar as primeiras linhas do conjunto de dados, foi rapidamente identificado a necessidade de uma exploração inicial para entender a estrutura e as características dos dados apresentados."
   ]
  },
  {
   "cell_type": "code",
   "execution_count": 3,
   "id": "ce15d05a",
   "metadata": {
    "execution": {
     "iopub.execute_input": "2024-03-13T23:35:39.229541Z",
     "iopub.status.busy": "2024-03-13T23:35:39.228978Z",
     "iopub.status.idle": "2024-03-13T23:35:39.233947Z",
     "shell.execute_reply": "2024-03-13T23:35:39.232739Z"
    },
    "papermill": {
     "duration": 0.027643,
     "end_time": "2024-03-13T23:35:39.236344",
     "exception": false,
     "start_time": "2024-03-13T23:35:39.208701",
     "status": "completed"
    },
    "tags": []
   },
   "outputs": [],
   "source": [
    "arquivo_csv = '/kaggle/input/python-m10-support-material/Python_M10_support material.csv'"
   ]
  },
  {
   "cell_type": "code",
   "execution_count": 4,
   "id": "dbccaf15",
   "metadata": {
    "execution": {
     "iopub.execute_input": "2024-03-13T23:35:39.276746Z",
     "iopub.status.busy": "2024-03-13T23:35:39.275555Z",
     "iopub.status.idle": "2024-03-13T23:35:39.282327Z",
     "shell.execute_reply": "2024-03-13T23:35:39.281237Z"
    },
    "papermill": {
     "duration": 0.02943,
     "end_time": "2024-03-13T23:35:39.284774",
     "exception": false,
     "start_time": "2024-03-13T23:35:39.255344",
     "status": "completed"
    },
    "tags": []
   },
   "outputs": [],
   "source": [
    "def carregar_dados(arquivo_csv):\n",
    "  with open(arquivo_csv, mode='r', encoding='utf-8') as arquivo:\n",
    "        leitor = csv.DictReader(arquivo)\n",
    "        dados = [linha for linha in leitor]\n",
    "  return dados"
   ]
  },
  {
   "cell_type": "code",
   "execution_count": 5,
   "id": "74f8749d",
   "metadata": {
    "execution": {
     "iopub.execute_input": "2024-03-13T23:35:39.325135Z",
     "iopub.status.busy": "2024-03-13T23:35:39.324074Z",
     "iopub.status.idle": "2024-03-13T23:35:39.498614Z",
     "shell.execute_reply": "2024-03-13T23:35:39.497589Z"
    },
    "papermill": {
     "duration": 0.197352,
     "end_time": "2024-03-13T23:35:39.501162",
     "exception": false,
     "start_time": "2024-03-13T23:35:39.303810",
     "status": "completed"
    },
    "tags": []
   },
   "outputs": [],
   "source": [
    "dados = carregar_dados(arquivo_csv)"
   ]
  },
  {
   "cell_type": "markdown",
   "id": "47063825",
   "metadata": {
    "papermill": {
     "duration": 0.018764,
     "end_time": "2024-03-13T23:35:39.539107",
     "exception": false,
     "start_time": "2024-03-13T23:35:39.520343",
     "status": "completed"
    },
    "tags": []
   },
   "source": [
    "# Fase 2: Exploração de dados"
   ]
  },
  {
   "cell_type": "code",
   "execution_count": 6,
   "id": "5e6761a6",
   "metadata": {
    "execution": {
     "iopub.execute_input": "2024-03-13T23:35:39.578693Z",
     "iopub.status.busy": "2024-03-13T23:35:39.578272Z",
     "iopub.status.idle": "2024-03-13T23:35:39.624778Z",
     "shell.execute_reply": "2024-03-13T23:35:39.623739Z"
    },
    "papermill": {
     "duration": 0.069372,
     "end_time": "2024-03-13T23:35:39.627440",
     "exception": false,
     "start_time": "2024-03-13T23:35:39.558068",
     "status": "completed"
    },
    "tags": []
   },
   "outputs": [],
   "source": [
    "df = pd.read_csv(arquivo_csv, na_values='na')"
   ]
  },
  {
   "cell_type": "code",
   "execution_count": 7,
   "id": "a8ff048d",
   "metadata": {
    "execution": {
     "iopub.execute_input": "2024-03-13T23:35:39.667333Z",
     "iopub.status.busy": "2024-03-13T23:35:39.666920Z",
     "iopub.status.idle": "2024-03-13T23:35:39.691670Z",
     "shell.execute_reply": "2024-03-13T23:35:39.690377Z"
    },
    "papermill": {
     "duration": 0.047852,
     "end_time": "2024-03-13T23:35:39.694411",
     "exception": false,
     "start_time": "2024-03-13T23:35:39.646559",
     "status": "completed"
    },
    "tags": []
   },
   "outputs": [
    {
     "data": {
      "text/html": [
       "<div>\n",
       "<style scoped>\n",
       "    .dataframe tbody tr th:only-of-type {\n",
       "        vertical-align: middle;\n",
       "    }\n",
       "\n",
       "    .dataframe tbody tr th {\n",
       "        vertical-align: top;\n",
       "    }\n",
       "\n",
       "    .dataframe thead th {\n",
       "        text-align: right;\n",
       "    }\n",
       "</style>\n",
       "<table border=\"1\" class=\"dataframe\">\n",
       "  <thead>\n",
       "    <tr style=\"text-align: right;\">\n",
       "      <th></th>\n",
       "      <th>id</th>\n",
       "      <th>default</th>\n",
       "      <th>idade</th>\n",
       "      <th>sexo</th>\n",
       "      <th>dependentes</th>\n",
       "      <th>escolaridade</th>\n",
       "      <th>estado_civil</th>\n",
       "      <th>salario_anual</th>\n",
       "      <th>tipo_cartao</th>\n",
       "      <th>meses_de_relacionamento</th>\n",
       "      <th>qtd_produtos</th>\n",
       "      <th>iteracoes_12m</th>\n",
       "      <th>meses_inativo_12m</th>\n",
       "      <th>limite_credito</th>\n",
       "      <th>valor_transacoes_12m</th>\n",
       "      <th>qtd_transacoes_12m</th>\n",
       "    </tr>\n",
       "  </thead>\n",
       "  <tbody>\n",
       "    <tr>\n",
       "      <th>0</th>\n",
       "      <td>768805383</td>\n",
       "      <td>0</td>\n",
       "      <td>45</td>\n",
       "      <td>M</td>\n",
       "      <td>3</td>\n",
       "      <td>ensino medio</td>\n",
       "      <td>casado</td>\n",
       "      <td>$60K - $80K</td>\n",
       "      <td>blue</td>\n",
       "      <td>39</td>\n",
       "      <td>5</td>\n",
       "      <td>3</td>\n",
       "      <td>1</td>\n",
       "      <td>12.691,51</td>\n",
       "      <td>1.144,90</td>\n",
       "      <td>42</td>\n",
       "    </tr>\n",
       "    <tr>\n",
       "      <th>1</th>\n",
       "      <td>818770008</td>\n",
       "      <td>0</td>\n",
       "      <td>49</td>\n",
       "      <td>F</td>\n",
       "      <td>5</td>\n",
       "      <td>mestrado</td>\n",
       "      <td>solteiro</td>\n",
       "      <td>menos que $40K</td>\n",
       "      <td>blue</td>\n",
       "      <td>44</td>\n",
       "      <td>6</td>\n",
       "      <td>2</td>\n",
       "      <td>1</td>\n",
       "      <td>8.256,96</td>\n",
       "      <td>1.291,45</td>\n",
       "      <td>33</td>\n",
       "    </tr>\n",
       "    <tr>\n",
       "      <th>2</th>\n",
       "      <td>713982108</td>\n",
       "      <td>0</td>\n",
       "      <td>51</td>\n",
       "      <td>M</td>\n",
       "      <td>3</td>\n",
       "      <td>mestrado</td>\n",
       "      <td>casado</td>\n",
       "      <td>$80K - $120K</td>\n",
       "      <td>blue</td>\n",
       "      <td>36</td>\n",
       "      <td>4</td>\n",
       "      <td>0</td>\n",
       "      <td>1</td>\n",
       "      <td>3.418,56</td>\n",
       "      <td>1.887,72</td>\n",
       "      <td>20</td>\n",
       "    </tr>\n",
       "    <tr>\n",
       "      <th>3</th>\n",
       "      <td>769911858</td>\n",
       "      <td>0</td>\n",
       "      <td>40</td>\n",
       "      <td>F</td>\n",
       "      <td>4</td>\n",
       "      <td>ensino medio</td>\n",
       "      <td>NaN</td>\n",
       "      <td>menos que $40K</td>\n",
       "      <td>blue</td>\n",
       "      <td>34</td>\n",
       "      <td>3</td>\n",
       "      <td>1</td>\n",
       "      <td>4</td>\n",
       "      <td>3.313,03</td>\n",
       "      <td>1.171,56</td>\n",
       "      <td>20</td>\n",
       "    </tr>\n",
       "    <tr>\n",
       "      <th>4</th>\n",
       "      <td>709106358</td>\n",
       "      <td>0</td>\n",
       "      <td>40</td>\n",
       "      <td>M</td>\n",
       "      <td>3</td>\n",
       "      <td>sem educacao formal</td>\n",
       "      <td>casado</td>\n",
       "      <td>$60K - $80K</td>\n",
       "      <td>blue</td>\n",
       "      <td>21</td>\n",
       "      <td>5</td>\n",
       "      <td>0</td>\n",
       "      <td>1</td>\n",
       "      <td>4.716,22</td>\n",
       "      <td>816,08</td>\n",
       "      <td>28</td>\n",
       "    </tr>\n",
       "  </tbody>\n",
       "</table>\n",
       "</div>"
      ],
      "text/plain": [
       "          id  default  idade sexo  dependentes         escolaridade  \\\n",
       "0  768805383        0     45    M            3         ensino medio   \n",
       "1  818770008        0     49    F            5             mestrado   \n",
       "2  713982108        0     51    M            3             mestrado   \n",
       "3  769911858        0     40    F            4         ensino medio   \n",
       "4  709106358        0     40    M            3  sem educacao formal   \n",
       "\n",
       "  estado_civil   salario_anual tipo_cartao  meses_de_relacionamento  \\\n",
       "0       casado     $60K - $80K        blue                       39   \n",
       "1     solteiro  menos que $40K        blue                       44   \n",
       "2       casado    $80K - $120K        blue                       36   \n",
       "3          NaN  menos que $40K        blue                       34   \n",
       "4       casado     $60K - $80K        blue                       21   \n",
       "\n",
       "   qtd_produtos  iteracoes_12m  meses_inativo_12m limite_credito  \\\n",
       "0             5              3                  1      12.691,51   \n",
       "1             6              2                  1       8.256,96   \n",
       "2             4              0                  1       3.418,56   \n",
       "3             3              1                  4       3.313,03   \n",
       "4             5              0                  1       4.716,22   \n",
       "\n",
       "  valor_transacoes_12m  qtd_transacoes_12m  \n",
       "0             1.144,90                  42  \n",
       "1             1.291,45                  33  \n",
       "2             1.887,72                  20  \n",
       "3             1.171,56                  20  \n",
       "4               816,08                  28  "
      ]
     },
     "execution_count": 7,
     "metadata": {},
     "output_type": "execute_result"
    }
   ],
   "source": [
    "df.head()"
   ]
  },
  {
   "cell_type": "code",
   "execution_count": 8,
   "id": "28256116",
   "metadata": {
    "execution": {
     "iopub.execute_input": "2024-03-13T23:35:39.735316Z",
     "iopub.status.busy": "2024-03-13T23:35:39.734451Z",
     "iopub.status.idle": "2024-03-13T23:35:39.752643Z",
     "shell.execute_reply": "2024-03-13T23:35:39.751462Z"
    },
    "papermill": {
     "duration": 0.041272,
     "end_time": "2024-03-13T23:35:39.755050",
     "exception": false,
     "start_time": "2024-03-13T23:35:39.713778",
     "status": "completed"
    },
    "tags": []
   },
   "outputs": [
    {
     "data": {
      "text/plain": [
       "id                         False\n",
       "default                    False\n",
       "idade                      False\n",
       "sexo                       False\n",
       "dependentes                False\n",
       "escolaridade                True\n",
       "estado_civil                True\n",
       "salario_anual               True\n",
       "tipo_cartao                False\n",
       "meses_de_relacionamento    False\n",
       "qtd_produtos               False\n",
       "iteracoes_12m              False\n",
       "meses_inativo_12m          False\n",
       "limite_credito             False\n",
       "valor_transacoes_12m       False\n",
       "qtd_transacoes_12m         False\n",
       "dtype: bool"
      ]
     },
     "execution_count": 8,
     "metadata": {},
     "output_type": "execute_result"
    }
   ],
   "source": [
    "df.isna().any()"
   ]
  },
  {
   "cell_type": "markdown",
   "id": "1cc2f0f1",
   "metadata": {
    "papermill": {
     "duration": 0.019557,
     "end_time": "2024-03-13T23:35:39.794165",
     "exception": false,
     "start_time": "2024-03-13T23:35:39.774608",
     "status": "completed"
    },
    "tags": []
   },
   "source": [
    "**Calculando média de idade:**"
   ]
  },
  {
   "cell_type": "code",
   "execution_count": 9,
   "id": "4b64dd68",
   "metadata": {
    "execution": {
     "iopub.execute_input": "2024-03-13T23:35:39.835552Z",
     "iopub.status.busy": "2024-03-13T23:35:39.834568Z",
     "iopub.status.idle": "2024-03-13T23:35:39.848293Z",
     "shell.execute_reply": "2024-03-13T23:35:39.847266Z"
    },
    "papermill": {
     "duration": 0.037096,
     "end_time": "2024-03-13T23:35:39.850888",
     "exception": false,
     "start_time": "2024-03-13T23:35:39.813792",
     "status": "completed"
    },
    "tags": []
   },
   "outputs": [
    {
     "name": "stdout",
     "output_type": "stream",
     "text": [
      "Média de idade: 46.33\n"
     ]
    }
   ],
   "source": [
    "idades = [int(linha['idade']) for linha in dados if 'idade' in linha and linha['idade'].isdigit()]\n",
    "media_idade = round((sum(idades) / len(idades)),2)\n",
    "print(f'Média de idade: {media_idade}')"
   ]
  },
  {
   "cell_type": "markdown",
   "id": "839971d7",
   "metadata": {
    "papermill": {
     "duration": 0.019252,
     "end_time": "2024-03-13T23:35:39.889718",
     "exception": false,
     "start_time": "2024-03-13T23:35:39.870466",
     "status": "completed"
    },
    "tags": []
   },
   "source": [
    "**Calculando quantidade de linhas totais, com 'default' = 0 e com 'default' = 1**"
   ]
  },
  {
   "cell_type": "code",
   "execution_count": 10,
   "id": "0da6cc8e",
   "metadata": {
    "execution": {
     "iopub.execute_input": "2024-03-13T23:35:39.930923Z",
     "iopub.status.busy": "2024-03-13T23:35:39.930141Z",
     "iopub.status.idle": "2024-03-13T23:35:39.937644Z",
     "shell.execute_reply": "2024-03-13T23:35:39.936520Z"
    },
    "papermill": {
     "duration": 0.030765,
     "end_time": "2024-03-13T23:35:39.940037",
     "exception": false,
     "start_time": "2024-03-13T23:35:39.909272",
     "status": "completed"
    },
    "tags": []
   },
   "outputs": [
    {
     "data": {
      "text/plain": [
       "(10127, 16)"
      ]
     },
     "execution_count": 10,
     "metadata": {},
     "output_type": "execute_result"
    }
   ],
   "source": [
    "df.shape #retorna quantidade de linhas e colunas (nesta ordem)"
   ]
  },
  {
   "cell_type": "code",
   "execution_count": 11,
   "id": "e77ba623",
   "metadata": {
    "execution": {
     "iopub.execute_input": "2024-03-13T23:35:39.981920Z",
     "iopub.status.busy": "2024-03-13T23:35:39.981533Z",
     "iopub.status.idle": "2024-03-13T23:35:39.994894Z",
     "shell.execute_reply": "2024-03-13T23:35:39.993888Z"
    },
    "papermill": {
     "duration": 0.036771,
     "end_time": "2024-03-13T23:35:39.997419",
     "exception": false,
     "start_time": "2024-03-13T23:35:39.960648",
     "status": "completed"
    },
    "tags": []
   },
   "outputs": [
    {
     "data": {
      "text/plain": [
       "(8500, 16)"
      ]
     },
     "execution_count": 11,
     "metadata": {},
     "output_type": "execute_result"
    }
   ],
   "source": [
    "df[df['default'] == 0].shape"
   ]
  },
  {
   "cell_type": "code",
   "execution_count": 12,
   "id": "a84b23f0",
   "metadata": {
    "execution": {
     "iopub.execute_input": "2024-03-13T23:35:40.039099Z",
     "iopub.status.busy": "2024-03-13T23:35:40.038721Z",
     "iopub.status.idle": "2024-03-13T23:35:40.047414Z",
     "shell.execute_reply": "2024-03-13T23:35:40.046468Z"
    },
    "papermill": {
     "duration": 0.032436,
     "end_time": "2024-03-13T23:35:40.049770",
     "exception": false,
     "start_time": "2024-03-13T23:35:40.017334",
     "status": "completed"
    },
    "tags": []
   },
   "outputs": [
    {
     "data": {
      "text/plain": [
       "(1627, 16)"
      ]
     },
     "execution_count": 12,
     "metadata": {},
     "output_type": "execute_result"
    }
   ],
   "source": [
    "df[df['default'] == 1].shape"
   ]
  },
  {
   "cell_type": "code",
   "execution_count": 13,
   "id": "03a4be32",
   "metadata": {
    "execution": {
     "iopub.execute_input": "2024-03-13T23:35:40.092162Z",
     "iopub.status.busy": "2024-03-13T23:35:40.091774Z",
     "iopub.status.idle": "2024-03-13T23:35:40.100071Z",
     "shell.execute_reply": "2024-03-13T23:35:40.099169Z"
    },
    "papermill": {
     "duration": 0.032714,
     "end_time": "2024-03-13T23:35:40.102729",
     "exception": false,
     "start_time": "2024-03-13T23:35:40.070015",
     "status": "completed"
    },
    "tags": []
   },
   "outputs": [],
   "source": [
    "qtd_total, _ = df.shape\n",
    "qtd_adimplentes, _ = df[df['default'] == 0].shape\n",
    "qtd_inadimplentes, _ = df[df['default'] == 1].shape"
   ]
  },
  {
   "cell_type": "code",
   "execution_count": 14,
   "id": "d5711db7",
   "metadata": {
    "execution": {
     "iopub.execute_input": "2024-03-13T23:35:40.145628Z",
     "iopub.status.busy": "2024-03-13T23:35:40.145207Z",
     "iopub.status.idle": "2024-03-13T23:35:40.152730Z",
     "shell.execute_reply": "2024-03-13T23:35:40.150896Z"
    },
    "papermill": {
     "duration": 0.032241,
     "end_time": "2024-03-13T23:35:40.155212",
     "exception": false,
     "start_time": "2024-03-13T23:35:40.122971",
     "status": "completed"
    },
    "tags": []
   },
   "outputs": [
    {
     "name": "stdout",
     "output_type": "stream",
     "text": [
      "A proporção de clientes adimplentes é de 83.93%\n",
      "A proporção de clientes adimplentes é de 16.07%\n"
     ]
    }
   ],
   "source": [
    "print (f'A proporção de clientes adimplentes é de {round(100 * qtd_adimplentes / qtd_total, 2)}%')\n",
    "print (f'A proporção de clientes adimplentes é de {round(100 * qtd_inadimplentes / qtd_total, 2)}%')"
   ]
  },
  {
   "cell_type": "markdown",
   "id": "1e8a360d",
   "metadata": {
    "papermill": {
     "duration": 0.020014,
     "end_time": "2024-03-13T23:35:40.195822",
     "exception": false,
     "start_time": "2024-03-13T23:35:40.175808",
     "status": "completed"
    },
    "tags": []
   },
   "source": [
    "# Fase 3: Limpeza e Normalização"
   ]
  },
  {
   "cell_type": "markdown",
   "id": "aacc7040",
   "metadata": {
    "papermill": {
     "duration": 0.020607,
     "end_time": "2024-03-13T23:35:40.236620",
     "exception": false,
     "start_time": "2024-03-13T23:35:40.216013",
     "status": "completed"
    },
    "tags": []
   },
   "source": [
    "Uma etapa crucial envolveu a limpeza e a normalização dos dados. Foi notado que existem valores ausentes e formatos inconsistentes, especialmente nas colunas de limite de crédito e valor das transações nos últimos 12 meses, o que demandou um meticuloso processo de conversão e padronização. Funções lambda e métodos de aplicação foram empregados para transformar os dados em formatos utilizáveis para análises subsequentes."
   ]
  },
  {
   "cell_type": "code",
   "execution_count": 15,
   "id": "5ea6703a",
   "metadata": {
    "execution": {
     "iopub.execute_input": "2024-03-13T23:35:40.343782Z",
     "iopub.status.busy": "2024-03-13T23:35:40.343399Z",
     "iopub.status.idle": "2024-03-13T23:35:40.352403Z",
     "shell.execute_reply": "2024-03-13T23:35:40.351252Z"
    },
    "papermill": {
     "duration": 0.097392,
     "end_time": "2024-03-13T23:35:40.354757",
     "exception": false,
     "start_time": "2024-03-13T23:35:40.257365",
     "status": "completed"
    },
    "tags": []
   },
   "outputs": [
    {
     "data": {
      "text/plain": [
       "id                          int64\n",
       "default                     int64\n",
       "idade                       int64\n",
       "sexo                       object\n",
       "dependentes                 int64\n",
       "escolaridade               object\n",
       "estado_civil               object\n",
       "salario_anual              object\n",
       "tipo_cartao                object\n",
       "meses_de_relacionamento     int64\n",
       "qtd_produtos                int64\n",
       "iteracoes_12m               int64\n",
       "meses_inativo_12m           int64\n",
       "limite_credito             object\n",
       "valor_transacoes_12m       object\n",
       "qtd_transacoes_12m          int64\n",
       "dtype: object"
      ]
     },
     "execution_count": 15,
     "metadata": {},
     "output_type": "execute_result"
    }
   ],
   "source": [
    "df.dtypes #demonstração dos tipos de cada dado"
   ]
  },
  {
   "cell_type": "code",
   "execution_count": 16,
   "id": "ab5348e2",
   "metadata": {
    "execution": {
     "iopub.execute_input": "2024-03-13T23:35:40.397720Z",
     "iopub.status.busy": "2024-03-13T23:35:40.397343Z",
     "iopub.status.idle": "2024-03-13T23:35:40.456629Z",
     "shell.execute_reply": "2024-03-13T23:35:40.455443Z"
    },
    "papermill": {
     "duration": 0.083858,
     "end_time": "2024-03-13T23:35:40.459067",
     "exception": false,
     "start_time": "2024-03-13T23:35:40.375209",
     "status": "completed"
    },
    "tags": []
   },
   "outputs": [
    {
     "data": {
      "text/html": [
       "<div>\n",
       "<style scoped>\n",
       "    .dataframe tbody tr th:only-of-type {\n",
       "        vertical-align: middle;\n",
       "    }\n",
       "\n",
       "    .dataframe tbody tr th {\n",
       "        vertical-align: top;\n",
       "    }\n",
       "\n",
       "    .dataframe thead th {\n",
       "        text-align: right;\n",
       "    }\n",
       "</style>\n",
       "<table border=\"1\" class=\"dataframe\">\n",
       "  <thead>\n",
       "    <tr style=\"text-align: right;\">\n",
       "      <th></th>\n",
       "      <th>count</th>\n",
       "      <th>unique</th>\n",
       "      <th>top</th>\n",
       "      <th>freq</th>\n",
       "    </tr>\n",
       "  </thead>\n",
       "  <tbody>\n",
       "    <tr>\n",
       "      <th>sexo</th>\n",
       "      <td>10127</td>\n",
       "      <td>2</td>\n",
       "      <td>F</td>\n",
       "      <td>5358</td>\n",
       "    </tr>\n",
       "    <tr>\n",
       "      <th>escolaridade</th>\n",
       "      <td>8608</td>\n",
       "      <td>5</td>\n",
       "      <td>mestrado</td>\n",
       "      <td>3128</td>\n",
       "    </tr>\n",
       "    <tr>\n",
       "      <th>estado_civil</th>\n",
       "      <td>9378</td>\n",
       "      <td>3</td>\n",
       "      <td>casado</td>\n",
       "      <td>4687</td>\n",
       "    </tr>\n",
       "    <tr>\n",
       "      <th>salario_anual</th>\n",
       "      <td>9015</td>\n",
       "      <td>5</td>\n",
       "      <td>menos que $40K</td>\n",
       "      <td>3561</td>\n",
       "    </tr>\n",
       "    <tr>\n",
       "      <th>tipo_cartao</th>\n",
       "      <td>10127</td>\n",
       "      <td>4</td>\n",
       "      <td>blue</td>\n",
       "      <td>9436</td>\n",
       "    </tr>\n",
       "    <tr>\n",
       "      <th>limite_credito</th>\n",
       "      <td>10127</td>\n",
       "      <td>9272</td>\n",
       "      <td>1.438,21</td>\n",
       "      <td>11</td>\n",
       "    </tr>\n",
       "    <tr>\n",
       "      <th>valor_transacoes_12m</th>\n",
       "      <td>10127</td>\n",
       "      <td>10035</td>\n",
       "      <td>3.851,51</td>\n",
       "      <td>3</td>\n",
       "    </tr>\n",
       "  </tbody>\n",
       "</table>\n",
       "</div>"
      ],
      "text/plain": [
       "                      count unique             top  freq\n",
       "sexo                  10127      2               F  5358\n",
       "escolaridade           8608      5        mestrado  3128\n",
       "estado_civil           9378      3          casado  4687\n",
       "salario_anual          9015      5  menos que $40K  3561\n",
       "tipo_cartao           10127      4            blue  9436\n",
       "limite_credito        10127   9272        1.438,21    11\n",
       "valor_transacoes_12m  10127  10035        3.851,51     3"
      ]
     },
     "execution_count": 16,
     "metadata": {},
     "output_type": "execute_result"
    }
   ],
   "source": [
    "df.select_dtypes('object').describe().transpose()"
   ]
  },
  {
   "cell_type": "code",
   "execution_count": 17,
   "id": "c11abf6d",
   "metadata": {
    "execution": {
     "iopub.execute_input": "2024-03-13T23:35:40.503080Z",
     "iopub.status.busy": "2024-03-13T23:35:40.502701Z",
     "iopub.status.idle": "2024-03-13T23:35:40.550761Z",
     "shell.execute_reply": "2024-03-13T23:35:40.549673Z"
    },
    "papermill": {
     "duration": 0.073198,
     "end_time": "2024-03-13T23:35:40.553292",
     "exception": false,
     "start_time": "2024-03-13T23:35:40.480094",
     "status": "completed"
    },
    "tags": []
   },
   "outputs": [
    {
     "data": {
      "text/html": [
       "<div>\n",
       "<style scoped>\n",
       "    .dataframe tbody tr th:only-of-type {\n",
       "        vertical-align: middle;\n",
       "    }\n",
       "\n",
       "    .dataframe tbody tr th {\n",
       "        vertical-align: top;\n",
       "    }\n",
       "\n",
       "    .dataframe thead th {\n",
       "        text-align: right;\n",
       "    }\n",
       "</style>\n",
       "<table border=\"1\" class=\"dataframe\">\n",
       "  <thead>\n",
       "    <tr style=\"text-align: right;\">\n",
       "      <th></th>\n",
       "      <th>count</th>\n",
       "      <th>mean</th>\n",
       "      <th>std</th>\n",
       "      <th>min</th>\n",
       "      <th>25%</th>\n",
       "      <th>50%</th>\n",
       "      <th>75%</th>\n",
       "      <th>max</th>\n",
       "    </tr>\n",
       "  </thead>\n",
       "  <tbody>\n",
       "    <tr>\n",
       "      <th>default</th>\n",
       "      <td>10127.0</td>\n",
       "      <td>0.160660</td>\n",
       "      <td>0.367235</td>\n",
       "      <td>0.0</td>\n",
       "      <td>0.0</td>\n",
       "      <td>0.0</td>\n",
       "      <td>0.0</td>\n",
       "      <td>1.0</td>\n",
       "    </tr>\n",
       "    <tr>\n",
       "      <th>idade</th>\n",
       "      <td>10127.0</td>\n",
       "      <td>46.325960</td>\n",
       "      <td>8.016814</td>\n",
       "      <td>26.0</td>\n",
       "      <td>41.0</td>\n",
       "      <td>46.0</td>\n",
       "      <td>52.0</td>\n",
       "      <td>73.0</td>\n",
       "    </tr>\n",
       "    <tr>\n",
       "      <th>dependentes</th>\n",
       "      <td>10127.0</td>\n",
       "      <td>2.346203</td>\n",
       "      <td>1.298908</td>\n",
       "      <td>0.0</td>\n",
       "      <td>1.0</td>\n",
       "      <td>2.0</td>\n",
       "      <td>3.0</td>\n",
       "      <td>5.0</td>\n",
       "    </tr>\n",
       "    <tr>\n",
       "      <th>meses_de_relacionamento</th>\n",
       "      <td>10127.0</td>\n",
       "      <td>35.928409</td>\n",
       "      <td>7.986416</td>\n",
       "      <td>13.0</td>\n",
       "      <td>31.0</td>\n",
       "      <td>36.0</td>\n",
       "      <td>40.0</td>\n",
       "      <td>56.0</td>\n",
       "    </tr>\n",
       "    <tr>\n",
       "      <th>qtd_produtos</th>\n",
       "      <td>10127.0</td>\n",
       "      <td>3.812580</td>\n",
       "      <td>1.554408</td>\n",
       "      <td>1.0</td>\n",
       "      <td>3.0</td>\n",
       "      <td>4.0</td>\n",
       "      <td>5.0</td>\n",
       "      <td>6.0</td>\n",
       "    </tr>\n",
       "    <tr>\n",
       "      <th>iteracoes_12m</th>\n",
       "      <td>10127.0</td>\n",
       "      <td>2.455317</td>\n",
       "      <td>1.106225</td>\n",
       "      <td>0.0</td>\n",
       "      <td>2.0</td>\n",
       "      <td>2.0</td>\n",
       "      <td>3.0</td>\n",
       "      <td>6.0</td>\n",
       "    </tr>\n",
       "    <tr>\n",
       "      <th>meses_inativo_12m</th>\n",
       "      <td>10127.0</td>\n",
       "      <td>2.341167</td>\n",
       "      <td>1.010622</td>\n",
       "      <td>0.0</td>\n",
       "      <td>2.0</td>\n",
       "      <td>2.0</td>\n",
       "      <td>3.0</td>\n",
       "      <td>6.0</td>\n",
       "    </tr>\n",
       "    <tr>\n",
       "      <th>qtd_transacoes_12m</th>\n",
       "      <td>10127.0</td>\n",
       "      <td>64.858695</td>\n",
       "      <td>23.472570</td>\n",
       "      <td>10.0</td>\n",
       "      <td>45.0</td>\n",
       "      <td>67.0</td>\n",
       "      <td>81.0</td>\n",
       "      <td>139.0</td>\n",
       "    </tr>\n",
       "  </tbody>\n",
       "</table>\n",
       "</div>"
      ],
      "text/plain": [
       "                           count       mean        std   min   25%   50%  \\\n",
       "default                  10127.0   0.160660   0.367235   0.0   0.0   0.0   \n",
       "idade                    10127.0  46.325960   8.016814  26.0  41.0  46.0   \n",
       "dependentes              10127.0   2.346203   1.298908   0.0   1.0   2.0   \n",
       "meses_de_relacionamento  10127.0  35.928409   7.986416  13.0  31.0  36.0   \n",
       "qtd_produtos             10127.0   3.812580   1.554408   1.0   3.0   4.0   \n",
       "iteracoes_12m            10127.0   2.455317   1.106225   0.0   2.0   2.0   \n",
       "meses_inativo_12m        10127.0   2.341167   1.010622   0.0   2.0   2.0   \n",
       "qtd_transacoes_12m       10127.0  64.858695  23.472570  10.0  45.0  67.0   \n",
       "\n",
       "                          75%    max  \n",
       "default                   0.0    1.0  \n",
       "idade                    52.0   73.0  \n",
       "dependentes               3.0    5.0  \n",
       "meses_de_relacionamento  40.0   56.0  \n",
       "qtd_produtos              5.0    6.0  \n",
       "iteracoes_12m             3.0    6.0  \n",
       "meses_inativo_12m         3.0    6.0  \n",
       "qtd_transacoes_12m       81.0  139.0  "
      ]
     },
     "execution_count": 17,
     "metadata": {},
     "output_type": "execute_result"
    }
   ],
   "source": [
    "df.drop('id', axis=1).select_dtypes('number').describe().transpose()"
   ]
  },
  {
   "cell_type": "markdown",
   "id": "5b32736e",
   "metadata": {
    "papermill": {
     "duration": 0.021034,
     "end_time": "2024-03-13T23:35:40.595451",
     "exception": false,
     "start_time": "2024-03-13T23:35:40.574417",
     "status": "completed"
    },
    "tags": []
   },
   "source": [
    "**CONHECENDO OS DADOS FALTANTES:**"
   ]
  },
  {
   "cell_type": "code",
   "execution_count": 18,
   "id": "32c830b6",
   "metadata": {
    "execution": {
     "iopub.execute_input": "2024-03-13T23:35:40.639756Z",
     "iopub.status.busy": "2024-03-13T23:35:40.639098Z",
     "iopub.status.idle": "2024-03-13T23:35:40.646167Z",
     "shell.execute_reply": "2024-03-13T23:35:40.645381Z"
    },
    "papermill": {
     "duration": 0.031826,
     "end_time": "2024-03-13T23:35:40.648426",
     "exception": false,
     "start_time": "2024-03-13T23:35:40.616600",
     "status": "completed"
    },
    "tags": []
   },
   "outputs": [],
   "source": [
    "def detalhes_dados_faltantes(df: pd.DataFrame):\n",
    "\n",
    "  detalhes_dados_faltantes = []\n",
    "  for col in df.columns:\n",
    "    if df[col].isna().any():\n",
    "      qtd, _ = df[df[col].isna()].shape\n",
    "      total, _ = df.shape\n",
    "      dict_dados_faltantes = {col: {'quantidade': qtd, 'porcentagem': round(100 * qtd/total, 2)}}\n",
    "      detalhes_dados_faltantes.append(dict_dados_faltantes)\n",
    "\n",
    "  for detalhes in detalhes_dados_faltantes:\n",
    "    print(detalhes)"
   ]
  },
  {
   "cell_type": "code",
   "execution_count": 19,
   "id": "ef91632c",
   "metadata": {
    "execution": {
     "iopub.execute_input": "2024-03-13T23:35:40.692454Z",
     "iopub.status.busy": "2024-03-13T23:35:40.692032Z",
     "iopub.status.idle": "2024-03-13T23:35:40.714326Z",
     "shell.execute_reply": "2024-03-13T23:35:40.712917Z"
    },
    "papermill": {
     "duration": 0.04687,
     "end_time": "2024-03-13T23:35:40.716532",
     "exception": false,
     "start_time": "2024-03-13T23:35:40.669662",
     "status": "completed"
    },
    "tags": []
   },
   "outputs": [
    {
     "name": "stdout",
     "output_type": "stream",
     "text": [
      "{'escolaridade': {'quantidade': 1519, 'porcentagem': 15.0}}\n",
      "{'estado_civil': {'quantidade': 749, 'porcentagem': 7.4}}\n",
      "{'salario_anual': {'quantidade': 1112, 'porcentagem': 10.98}}\n"
     ]
    }
   ],
   "source": [
    "detalhes_dados_faltantes(df=df)"
   ]
  },
  {
   "cell_type": "code",
   "execution_count": 20,
   "id": "f22e02fd",
   "metadata": {
    "execution": {
     "iopub.execute_input": "2024-03-13T23:35:40.760942Z",
     "iopub.status.busy": "2024-03-13T23:35:40.760575Z",
     "iopub.status.idle": "2024-03-13T23:35:40.782611Z",
     "shell.execute_reply": "2024-03-13T23:35:40.781334Z"
    },
    "papermill": {
     "duration": 0.046958,
     "end_time": "2024-03-13T23:35:40.784834",
     "exception": false,
     "start_time": "2024-03-13T23:35:40.737876",
     "status": "completed"
    },
    "tags": []
   },
   "outputs": [
    {
     "name": "stdout",
     "output_type": "stream",
     "text": [
      "{'escolaridade': {'quantidade': 1263, 'porcentagem': 14.86}}\n",
      "{'estado_civil': {'quantidade': 620, 'porcentagem': 7.29}}\n",
      "{'salario_anual': {'quantidade': 925, 'porcentagem': 10.88}}\n"
     ]
    }
   ],
   "source": [
    "detalhes_dados_faltantes(df=df[df['default']==0])"
   ]
  },
  {
   "cell_type": "code",
   "execution_count": 21,
   "id": "79ff9534",
   "metadata": {
    "execution": {
     "iopub.execute_input": "2024-03-13T23:35:40.829345Z",
     "iopub.status.busy": "2024-03-13T23:35:40.828890Z",
     "iopub.status.idle": "2024-03-13T23:35:40.844092Z",
     "shell.execute_reply": "2024-03-13T23:35:40.842807Z"
    },
    "papermill": {
     "duration": 0.040358,
     "end_time": "2024-03-13T23:35:40.846426",
     "exception": false,
     "start_time": "2024-03-13T23:35:40.806068",
     "status": "completed"
    },
    "tags": []
   },
   "outputs": [
    {
     "name": "stdout",
     "output_type": "stream",
     "text": [
      "{'escolaridade': {'quantidade': 256, 'porcentagem': 15.73}}\n",
      "{'estado_civil': {'quantidade': 129, 'porcentagem': 7.93}}\n",
      "{'salario_anual': {'quantidade': 187, 'porcentagem': 11.49}}\n"
     ]
    }
   ],
   "source": [
    "detalhes_dados_faltantes(df=df[df['default']==1])"
   ]
  },
  {
   "cell_type": "markdown",
   "id": "dd38f62c",
   "metadata": {
    "papermill": {
     "duration": 0.020969,
     "end_time": "2024-03-13T23:35:40.888695",
     "exception": false,
     "start_time": "2024-03-13T23:35:40.867726",
     "status": "completed"
    },
    "tags": []
   },
   "source": [
    "# Fase 4: Análise Exploratória Profunda"
   ]
  },
  {
   "cell_type": "markdown",
   "id": "4e3cee8b",
   "metadata": {
    "papermill": {
     "duration": 0.021034,
     "end_time": "2024-03-13T23:35:40.931512",
     "exception": false,
     "start_time": "2024-03-13T23:35:40.910478",
     "status": "completed"
    },
    "tags": []
   },
   "source": [
    "Já com os dados limpos, foi feita uma análise exploratória profunda. O objetivo era identificar padrões distintos entre clientes adimplentes e inadimplentes, com foco em variáveis como escolaridade, salário anual, estado civil, quantidade e valor das transações no último ano. Utilizando visualizações gráficas geradas por Seaborn e Matplotlib, padrões começaram a emergir, oferecendo insights valiosos sobre as diferenças comportamentais entre os dois grupos."
   ]
  },
  {
   "cell_type": "code",
   "execution_count": 22,
   "id": "e9f63c5e",
   "metadata": {
    "execution": {
     "iopub.execute_input": "2024-03-13T23:35:40.976419Z",
     "iopub.status.busy": "2024-03-13T23:35:40.975996Z",
     "iopub.status.idle": "2024-03-13T23:35:40.993412Z",
     "shell.execute_reply": "2024-03-13T23:35:40.992544Z"
    },
    "papermill": {
     "duration": 0.042924,
     "end_time": "2024-03-13T23:35:40.995672",
     "exception": false,
     "start_time": "2024-03-13T23:35:40.952748",
     "status": "completed"
    },
    "tags": []
   },
   "outputs": [
    {
     "data": {
      "text/html": [
       "<div>\n",
       "<style scoped>\n",
       "    .dataframe tbody tr th:only-of-type {\n",
       "        vertical-align: middle;\n",
       "    }\n",
       "\n",
       "    .dataframe tbody tr th {\n",
       "        vertical-align: top;\n",
       "    }\n",
       "\n",
       "    .dataframe thead th {\n",
       "        text-align: right;\n",
       "    }\n",
       "</style>\n",
       "<table border=\"1\" class=\"dataframe\">\n",
       "  <thead>\n",
       "    <tr style=\"text-align: right;\">\n",
       "      <th></th>\n",
       "      <th>id</th>\n",
       "      <th>default</th>\n",
       "      <th>idade</th>\n",
       "      <th>sexo</th>\n",
       "      <th>dependentes</th>\n",
       "      <th>escolaridade</th>\n",
       "      <th>estado_civil</th>\n",
       "      <th>salario_anual</th>\n",
       "      <th>tipo_cartao</th>\n",
       "      <th>meses_de_relacionamento</th>\n",
       "      <th>qtd_produtos</th>\n",
       "      <th>iteracoes_12m</th>\n",
       "      <th>meses_inativo_12m</th>\n",
       "      <th>limite_credito</th>\n",
       "      <th>valor_transacoes_12m</th>\n",
       "      <th>qtd_transacoes_12m</th>\n",
       "    </tr>\n",
       "  </thead>\n",
       "  <tbody>\n",
       "    <tr>\n",
       "      <th>0</th>\n",
       "      <td>768805383</td>\n",
       "      <td>0</td>\n",
       "      <td>45</td>\n",
       "      <td>M</td>\n",
       "      <td>3</td>\n",
       "      <td>ensino medio</td>\n",
       "      <td>casado</td>\n",
       "      <td>$60K - $80K</td>\n",
       "      <td>blue</td>\n",
       "      <td>39</td>\n",
       "      <td>5</td>\n",
       "      <td>3</td>\n",
       "      <td>1</td>\n",
       "      <td>12.691,51</td>\n",
       "      <td>1.144,90</td>\n",
       "      <td>42</td>\n",
       "    </tr>\n",
       "    <tr>\n",
       "      <th>1</th>\n",
       "      <td>818770008</td>\n",
       "      <td>0</td>\n",
       "      <td>49</td>\n",
       "      <td>F</td>\n",
       "      <td>5</td>\n",
       "      <td>mestrado</td>\n",
       "      <td>solteiro</td>\n",
       "      <td>menos que $40K</td>\n",
       "      <td>blue</td>\n",
       "      <td>44</td>\n",
       "      <td>6</td>\n",
       "      <td>2</td>\n",
       "      <td>1</td>\n",
       "      <td>8.256,96</td>\n",
       "      <td>1.291,45</td>\n",
       "      <td>33</td>\n",
       "    </tr>\n",
       "    <tr>\n",
       "      <th>2</th>\n",
       "      <td>713982108</td>\n",
       "      <td>0</td>\n",
       "      <td>51</td>\n",
       "      <td>M</td>\n",
       "      <td>3</td>\n",
       "      <td>mestrado</td>\n",
       "      <td>casado</td>\n",
       "      <td>$80K - $120K</td>\n",
       "      <td>blue</td>\n",
       "      <td>36</td>\n",
       "      <td>4</td>\n",
       "      <td>0</td>\n",
       "      <td>1</td>\n",
       "      <td>3.418,56</td>\n",
       "      <td>1.887,72</td>\n",
       "      <td>20</td>\n",
       "    </tr>\n",
       "    <tr>\n",
       "      <th>3</th>\n",
       "      <td>769911858</td>\n",
       "      <td>0</td>\n",
       "      <td>40</td>\n",
       "      <td>F</td>\n",
       "      <td>4</td>\n",
       "      <td>ensino medio</td>\n",
       "      <td>NaN</td>\n",
       "      <td>menos que $40K</td>\n",
       "      <td>blue</td>\n",
       "      <td>34</td>\n",
       "      <td>3</td>\n",
       "      <td>1</td>\n",
       "      <td>4</td>\n",
       "      <td>3.313,03</td>\n",
       "      <td>1.171,56</td>\n",
       "      <td>20</td>\n",
       "    </tr>\n",
       "    <tr>\n",
       "      <th>4</th>\n",
       "      <td>709106358</td>\n",
       "      <td>0</td>\n",
       "      <td>40</td>\n",
       "      <td>M</td>\n",
       "      <td>3</td>\n",
       "      <td>sem educacao formal</td>\n",
       "      <td>casado</td>\n",
       "      <td>$60K - $80K</td>\n",
       "      <td>blue</td>\n",
       "      <td>21</td>\n",
       "      <td>5</td>\n",
       "      <td>0</td>\n",
       "      <td>1</td>\n",
       "      <td>4.716,22</td>\n",
       "      <td>816,08</td>\n",
       "      <td>28</td>\n",
       "    </tr>\n",
       "  </tbody>\n",
       "</table>\n",
       "</div>"
      ],
      "text/plain": [
       "          id  default  idade sexo  dependentes         escolaridade  \\\n",
       "0  768805383        0     45    M            3         ensino medio   \n",
       "1  818770008        0     49    F            5             mestrado   \n",
       "2  713982108        0     51    M            3             mestrado   \n",
       "3  769911858        0     40    F            4         ensino medio   \n",
       "4  709106358        0     40    M            3  sem educacao formal   \n",
       "\n",
       "  estado_civil   salario_anual tipo_cartao  meses_de_relacionamento  \\\n",
       "0       casado     $60K - $80K        blue                       39   \n",
       "1     solteiro  menos que $40K        blue                       44   \n",
       "2       casado    $80K - $120K        blue                       36   \n",
       "3          NaN  menos que $40K        blue                       34   \n",
       "4       casado     $60K - $80K        blue                       21   \n",
       "\n",
       "   qtd_produtos  iteracoes_12m  meses_inativo_12m limite_credito  \\\n",
       "0             5              3                  1      12.691,51   \n",
       "1             6              2                  1       8.256,96   \n",
       "2             4              0                  1       3.418,56   \n",
       "3             3              1                  4       3.313,03   \n",
       "4             5              0                  1       4.716,22   \n",
       "\n",
       "  valor_transacoes_12m  qtd_transacoes_12m  \n",
       "0             1.144,90                  42  \n",
       "1             1.291,45                  33  \n",
       "2             1.887,72                  20  \n",
       "3             1.171,56                  20  \n",
       "4               816,08                  28  "
      ]
     },
     "execution_count": 22,
     "metadata": {},
     "output_type": "execute_result"
    }
   ],
   "source": [
    "df.head()"
   ]
  },
  {
   "cell_type": "markdown",
   "id": "1cc77a37",
   "metadata": {
    "papermill": {
     "duration": 0.021469,
     "end_time": "2024-03-13T23:35:41.038964",
     "exception": false,
     "start_time": "2024-03-13T23:35:41.017495",
     "status": "completed"
    },
    "tags": []
   },
   "source": [
    "**Corrigindo schema das colunas:**"
   ]
  },
  {
   "cell_type": "code",
   "execution_count": 23,
   "id": "f9b09334",
   "metadata": {
    "execution": {
     "iopub.execute_input": "2024-03-13T23:35:41.085177Z",
     "iopub.status.busy": "2024-03-13T23:35:41.084770Z",
     "iopub.status.idle": "2024-03-13T23:35:41.094594Z",
     "shell.execute_reply": "2024-03-13T23:35:41.093456Z"
    },
    "papermill": {
     "duration": 0.035629,
     "end_time": "2024-03-13T23:35:41.096799",
     "exception": false,
     "start_time": "2024-03-13T23:35:41.061170",
     "status": "completed"
    },
    "tags": []
   },
   "outputs": [
    {
     "data": {
      "text/plain": [
       "limite_credito          object\n",
       "valor_transacoes_12m    object\n",
       "dtype: object"
      ]
     },
     "execution_count": 23,
     "metadata": {},
     "output_type": "execute_result"
    }
   ],
   "source": [
    "df[['limite_credito', 'valor_transacoes_12m']].dtypes"
   ]
  },
  {
   "cell_type": "code",
   "execution_count": 24,
   "id": "5309013f",
   "metadata": {
    "execution": {
     "iopub.execute_input": "2024-03-13T23:35:41.142760Z",
     "iopub.status.busy": "2024-03-13T23:35:41.142336Z",
     "iopub.status.idle": "2024-03-13T23:35:41.154370Z",
     "shell.execute_reply": "2024-03-13T23:35:41.153248Z"
    },
    "papermill": {
     "duration": 0.038129,
     "end_time": "2024-03-13T23:35:41.156874",
     "exception": false,
     "start_time": "2024-03-13T23:35:41.118745",
     "status": "completed"
    },
    "tags": []
   },
   "outputs": [
    {
     "data": {
      "text/html": [
       "<div>\n",
       "<style scoped>\n",
       "    .dataframe tbody tr th:only-of-type {\n",
       "        vertical-align: middle;\n",
       "    }\n",
       "\n",
       "    .dataframe tbody tr th {\n",
       "        vertical-align: top;\n",
       "    }\n",
       "\n",
       "    .dataframe thead th {\n",
       "        text-align: right;\n",
       "    }\n",
       "</style>\n",
       "<table border=\"1\" class=\"dataframe\">\n",
       "  <thead>\n",
       "    <tr style=\"text-align: right;\">\n",
       "      <th></th>\n",
       "      <th>limite_credito</th>\n",
       "      <th>valor_transacoes_12m</th>\n",
       "    </tr>\n",
       "  </thead>\n",
       "  <tbody>\n",
       "    <tr>\n",
       "      <th>0</th>\n",
       "      <td>12.691,51</td>\n",
       "      <td>1.144,90</td>\n",
       "    </tr>\n",
       "    <tr>\n",
       "      <th>1</th>\n",
       "      <td>8.256,96</td>\n",
       "      <td>1.291,45</td>\n",
       "    </tr>\n",
       "    <tr>\n",
       "      <th>2</th>\n",
       "      <td>3.418,56</td>\n",
       "      <td>1.887,72</td>\n",
       "    </tr>\n",
       "    <tr>\n",
       "      <th>3</th>\n",
       "      <td>3.313,03</td>\n",
       "      <td>1.171,56</td>\n",
       "    </tr>\n",
       "    <tr>\n",
       "      <th>4</th>\n",
       "      <td>4.716,22</td>\n",
       "      <td>816,08</td>\n",
       "    </tr>\n",
       "  </tbody>\n",
       "</table>\n",
       "</div>"
      ],
      "text/plain": [
       "  limite_credito valor_transacoes_12m\n",
       "0      12.691,51             1.144,90\n",
       "1       8.256,96             1.291,45\n",
       "2       3.418,56             1.887,72\n",
       "3       3.313,03             1.171,56\n",
       "4       4.716,22               816,08"
      ]
     },
     "execution_count": 24,
     "metadata": {},
     "output_type": "execute_result"
    }
   ],
   "source": [
    "df[['limite_credito', 'valor_transacoes_12m']].head()"
   ]
  },
  {
   "cell_type": "markdown",
   "id": "e23deea6",
   "metadata": {
    "papermill": {
     "duration": 0.022352,
     "end_time": "2024-03-13T23:35:41.201776",
     "exception": false,
     "start_time": "2024-03-13T23:35:41.179424",
     "status": "completed"
    },
    "tags": []
   },
   "source": [
    "**Limpeza de dados**"
   ]
  },
  {
   "cell_type": "code",
   "execution_count": 25,
   "id": "8103b9a2",
   "metadata": {
    "execution": {
     "iopub.execute_input": "2024-03-13T23:35:41.248100Z",
     "iopub.status.busy": "2024-03-13T23:35:41.247687Z",
     "iopub.status.idle": "2024-03-13T23:35:41.252257Z",
     "shell.execute_reply": "2024-03-13T23:35:41.251407Z"
    },
    "papermill": {
     "duration": 0.030498,
     "end_time": "2024-03-13T23:35:41.254432",
     "exception": false,
     "start_time": "2024-03-13T23:35:41.223934",
     "status": "completed"
    },
    "tags": []
   },
   "outputs": [],
   "source": [
    "fn = lambda valor: float(valor.replace(\".\",\"\").replace(\",\",\".\"))"
   ]
  },
  {
   "cell_type": "code",
   "execution_count": 26,
   "id": "e610ac49",
   "metadata": {
    "execution": {
     "iopub.execute_input": "2024-03-13T23:35:41.301159Z",
     "iopub.status.busy": "2024-03-13T23:35:41.300730Z",
     "iopub.status.idle": "2024-03-13T23:35:41.326300Z",
     "shell.execute_reply": "2024-03-13T23:35:41.325354Z"
    },
    "papermill": {
     "duration": 0.05208,
     "end_time": "2024-03-13T23:35:41.329119",
     "exception": false,
     "start_time": "2024-03-13T23:35:41.277039",
     "status": "completed"
    },
    "tags": []
   },
   "outputs": [],
   "source": [
    "df['limite_credito'] = df['limite_credito'].apply(fn)\n",
    "df['valor_transacoes_12m'] = df['valor_transacoes_12m'].apply(fn)"
   ]
  },
  {
   "cell_type": "code",
   "execution_count": 27,
   "id": "fddf992b",
   "metadata": {
    "execution": {
     "iopub.execute_input": "2024-03-13T23:35:41.375160Z",
     "iopub.status.busy": "2024-03-13T23:35:41.374797Z",
     "iopub.status.idle": "2024-03-13T23:35:41.383016Z",
     "shell.execute_reply": "2024-03-13T23:35:41.382222Z"
    },
    "papermill": {
     "duration": 0.034258,
     "end_time": "2024-03-13T23:35:41.385706",
     "exception": false,
     "start_time": "2024-03-13T23:35:41.351448",
     "status": "completed"
    },
    "tags": []
   },
   "outputs": [
    {
     "data": {
      "text/plain": [
       "id                           int64\n",
       "default                      int64\n",
       "idade                        int64\n",
       "sexo                        object\n",
       "dependentes                  int64\n",
       "escolaridade                object\n",
       "estado_civil                object\n",
       "salario_anual               object\n",
       "tipo_cartao                 object\n",
       "meses_de_relacionamento      int64\n",
       "qtd_produtos                 int64\n",
       "iteracoes_12m                int64\n",
       "meses_inativo_12m            int64\n",
       "limite_credito             float64\n",
       "valor_transacoes_12m       float64\n",
       "qtd_transacoes_12m           int64\n",
       "dtype: object"
      ]
     },
     "execution_count": 27,
     "metadata": {},
     "output_type": "execute_result"
    }
   ],
   "source": [
    "df.dtypes"
   ]
  },
  {
   "cell_type": "markdown",
   "id": "82edc42d",
   "metadata": {
    "papermill": {
     "duration": 0.022021,
     "end_time": "2024-03-13T23:35:41.430439",
     "exception": false,
     "start_time": "2024-03-13T23:35:41.408418",
     "status": "completed"
    },
    "tags": []
   },
   "source": [
    "**Remoção de dados faltantes**"
   ]
  },
  {
   "cell_type": "code",
   "execution_count": 28,
   "id": "4c6fdaf9",
   "metadata": {
    "execution": {
     "iopub.execute_input": "2024-03-13T23:35:41.478940Z",
     "iopub.status.busy": "2024-03-13T23:35:41.478518Z",
     "iopub.status.idle": "2024-03-13T23:35:41.491918Z",
     "shell.execute_reply": "2024-03-13T23:35:41.490597Z"
    },
    "papermill": {
     "duration": 0.041227,
     "end_time": "2024-03-13T23:35:41.494519",
     "exception": false,
     "start_time": "2024-03-13T23:35:41.453292",
     "status": "completed"
    },
    "tags": []
   },
   "outputs": [],
   "source": [
    "df.dropna(inplace=True)"
   ]
  },
  {
   "cell_type": "code",
   "execution_count": 29,
   "id": "3a1208e2",
   "metadata": {
    "execution": {
     "iopub.execute_input": "2024-03-13T23:35:41.541894Z",
     "iopub.status.busy": "2024-03-13T23:35:41.541468Z",
     "iopub.status.idle": "2024-03-13T23:35:41.547898Z",
     "shell.execute_reply": "2024-03-13T23:35:41.547045Z"
    },
    "papermill": {
     "duration": 0.032376,
     "end_time": "2024-03-13T23:35:41.550028",
     "exception": false,
     "start_time": "2024-03-13T23:35:41.517652",
     "status": "completed"
    },
    "tags": []
   },
   "outputs": [
    {
     "data": {
      "text/plain": [
       "(7081, 16)"
      ]
     },
     "execution_count": 29,
     "metadata": {},
     "output_type": "execute_result"
    }
   ],
   "source": [
    "df.shape"
   ]
  },
  {
   "cell_type": "code",
   "execution_count": 30,
   "id": "fa925b3d",
   "metadata": {
    "execution": {
     "iopub.execute_input": "2024-03-13T23:35:41.597098Z",
     "iopub.status.busy": "2024-03-13T23:35:41.596675Z",
     "iopub.status.idle": "2024-03-13T23:35:41.606460Z",
     "shell.execute_reply": "2024-03-13T23:35:41.605362Z"
    },
    "papermill": {
     "duration": 0.036206,
     "end_time": "2024-03-13T23:35:41.608934",
     "exception": false,
     "start_time": "2024-03-13T23:35:41.572728",
     "status": "completed"
    },
    "tags": []
   },
   "outputs": [
    {
     "data": {
      "text/plain": [
       "(5968, 16)"
      ]
     },
     "execution_count": 30,
     "metadata": {},
     "output_type": "execute_result"
    }
   ],
   "source": [
    "df[df['default']==0].shape"
   ]
  },
  {
   "cell_type": "code",
   "execution_count": 31,
   "id": "f6761b4a",
   "metadata": {
    "execution": {
     "iopub.execute_input": "2024-03-13T23:35:41.656344Z",
     "iopub.status.busy": "2024-03-13T23:35:41.655873Z",
     "iopub.status.idle": "2024-03-13T23:35:41.664376Z",
     "shell.execute_reply": "2024-03-13T23:35:41.663507Z"
    },
    "papermill": {
     "duration": 0.034705,
     "end_time": "2024-03-13T23:35:41.666484",
     "exception": false,
     "start_time": "2024-03-13T23:35:41.631779",
     "status": "completed"
    },
    "tags": []
   },
   "outputs": [
    {
     "data": {
      "text/plain": [
       "(1113, 16)"
      ]
     },
     "execution_count": 31,
     "metadata": {},
     "output_type": "execute_result"
    }
   ],
   "source": [
    "df[df['default']==1].shape"
   ]
  },
  {
   "cell_type": "code",
   "execution_count": 32,
   "id": "6881ab73",
   "metadata": {
    "execution": {
     "iopub.execute_input": "2024-03-13T23:35:41.714095Z",
     "iopub.status.busy": "2024-03-13T23:35:41.713738Z",
     "iopub.status.idle": "2024-03-13T23:35:41.721594Z",
     "shell.execute_reply": "2024-03-13T23:35:41.720480Z"
    },
    "papermill": {
     "duration": 0.034547,
     "end_time": "2024-03-13T23:35:41.723928",
     "exception": false,
     "start_time": "2024-03-13T23:35:41.689381",
     "status": "completed"
    },
    "tags": []
   },
   "outputs": [],
   "source": [
    "qtd_total_novo, _ = df.shape\n",
    "qtd_adimplentes_novo, _ = df[df['default']==0].shape\n",
    "qtd_inadimplentes_novo, _ = df[df['default']==1].shape"
   ]
  },
  {
   "cell_type": "code",
   "execution_count": 33,
   "id": "34cba158",
   "metadata": {
    "execution": {
     "iopub.execute_input": "2024-03-13T23:35:41.771783Z",
     "iopub.status.busy": "2024-03-13T23:35:41.771385Z",
     "iopub.status.idle": "2024-03-13T23:35:41.778552Z",
     "shell.execute_reply": "2024-03-13T23:35:41.777301Z"
    },
    "papermill": {
     "duration": 0.033898,
     "end_time": "2024-03-13T23:35:41.780925",
     "exception": false,
     "start_time": "2024-03-13T23:35:41.747027",
     "status": "completed"
    },
    "tags": []
   },
   "outputs": [
    {
     "name": "stdout",
     "output_type": "stream",
     "text": [
      "A proporção de clientes adimplentes é de 83.93%\n",
      "A proporção nova de clientes adimplentes é de 84.28%\n",
      "\n",
      "A proporção de clientes adimplentes é de 16.07%\n",
      "A proporção nova de clientes adimplentes é de 15.72%\n"
     ]
    }
   ],
   "source": [
    "print (f'A proporção de clientes adimplentes é de {round(100 * qtd_adimplentes / qtd_total, 2)}%')\n",
    "print (f'A proporção nova de clientes adimplentes é de {round(100 * qtd_adimplentes_novo / qtd_total_novo, 2)}%')\n",
    "print('')\n",
    "print (f'A proporção de clientes adimplentes é de {round(100 * qtd_inadimplentes / qtd_total, 2)}%')\n",
    "print (f'A proporção nova de clientes adimplentes é de {round(100 * qtd_inadimplentes_novo / qtd_total_novo, 2)}%')"
   ]
  },
  {
   "cell_type": "markdown",
   "id": "166eec3e",
   "metadata": {
    "papermill": {
     "duration": 0.023094,
     "end_time": "2024-03-13T23:35:41.826968",
     "exception": false,
     "start_time": "2024-03-13T23:35:41.803874",
     "status": "completed"
    },
    "tags": []
   },
   "source": [
    "# Fase 5:Visualização de dados, Insights e Conclusões"
   ]
  },
  {
   "cell_type": "markdown",
   "id": "e25977ea",
   "metadata": {
    "papermill": {
     "duration": 0.022663,
     "end_time": "2024-03-13T23:35:41.873266",
     "exception": false,
     "start_time": "2024-03-13T23:35:41.850603",
     "status": "completed"
    },
    "tags": []
   },
   "source": [
    "A análise revelou que, embora alguns fatores como escolaridade e estado civil não apresentassem um padrão claro em relação à inadimplência, outras variáveis, como o valor e a quantidade de transações nos últimos 12 meses, mostraram tendências mais definidas. Especialmente notável foi a descoberta de que clientes com um número intermediário de transações anuais tendiam a ter uma maior probabilidade de inadimplência."
   ]
  },
  {
   "cell_type": "code",
   "execution_count": 34,
   "id": "3aecfc0c",
   "metadata": {
    "execution": {
     "iopub.execute_input": "2024-03-13T23:35:41.920752Z",
     "iopub.status.busy": "2024-03-13T23:35:41.920380Z",
     "iopub.status.idle": "2024-03-13T23:35:41.926315Z",
     "shell.execute_reply": "2024-03-13T23:35:41.925405Z"
    },
    "papermill": {
     "duration": 0.032387,
     "end_time": "2024-03-13T23:35:41.928604",
     "exception": false,
     "start_time": "2024-03-13T23:35:41.896217",
     "status": "completed"
    },
    "tags": []
   },
   "outputs": [],
   "source": [
    "df_adimplente = df[df['default']==0]"
   ]
  },
  {
   "cell_type": "code",
   "execution_count": 35,
   "id": "e08e2571",
   "metadata": {
    "execution": {
     "iopub.execute_input": "2024-03-13T23:35:41.977217Z",
     "iopub.status.busy": "2024-03-13T23:35:41.976437Z",
     "iopub.status.idle": "2024-03-13T23:35:41.981879Z",
     "shell.execute_reply": "2024-03-13T23:35:41.980982Z"
    },
    "papermill": {
     "duration": 0.032396,
     "end_time": "2024-03-13T23:35:41.984169",
     "exception": false,
     "start_time": "2024-03-13T23:35:41.951773",
     "status": "completed"
    },
    "tags": []
   },
   "outputs": [],
   "source": [
    "df_inadimplente = df[df['default']==1]"
   ]
  },
  {
   "cell_type": "markdown",
   "id": "e541fae3",
   "metadata": {
    "papermill": {
     "duration": 0.022417,
     "end_time": "2024-03-13T23:35:42.029431",
     "exception": false,
     "start_time": "2024-03-13T23:35:42.007014",
     "status": "completed"
    },
    "tags": []
   },
   "source": [
    "**Visualizações categóricas:**"
   ]
  },
  {
   "cell_type": "code",
   "execution_count": 36,
   "id": "d9aa758e",
   "metadata": {
    "execution": {
     "iopub.execute_input": "2024-03-13T23:35:42.077088Z",
     "iopub.status.busy": "2024-03-13T23:35:42.076335Z",
     "iopub.status.idle": "2024-03-13T23:35:42.089127Z",
     "shell.execute_reply": "2024-03-13T23:35:42.088030Z"
    },
    "papermill": {
     "duration": 0.039459,
     "end_time": "2024-03-13T23:35:42.091699",
     "exception": false,
     "start_time": "2024-03-13T23:35:42.052240",
     "status": "completed"
    },
    "tags": []
   },
   "outputs": [
    {
     "data": {
      "text/html": [
       "<div>\n",
       "<style scoped>\n",
       "    .dataframe tbody tr th:only-of-type {\n",
       "        vertical-align: middle;\n",
       "    }\n",
       "\n",
       "    .dataframe tbody tr th {\n",
       "        vertical-align: top;\n",
       "    }\n",
       "\n",
       "    .dataframe thead th {\n",
       "        text-align: right;\n",
       "    }\n",
       "</style>\n",
       "<table border=\"1\" class=\"dataframe\">\n",
       "  <thead>\n",
       "    <tr style=\"text-align: right;\">\n",
       "      <th></th>\n",
       "      <th>sexo</th>\n",
       "      <th>escolaridade</th>\n",
       "      <th>estado_civil</th>\n",
       "      <th>salario_anual</th>\n",
       "      <th>tipo_cartao</th>\n",
       "    </tr>\n",
       "  </thead>\n",
       "  <tbody>\n",
       "    <tr>\n",
       "      <th>0</th>\n",
       "      <td>M</td>\n",
       "      <td>ensino medio</td>\n",
       "      <td>casado</td>\n",
       "      <td>$60K - $80K</td>\n",
       "      <td>blue</td>\n",
       "    </tr>\n",
       "    <tr>\n",
       "      <th>1</th>\n",
       "      <td>F</td>\n",
       "      <td>mestrado</td>\n",
       "      <td>solteiro</td>\n",
       "      <td>menos que $40K</td>\n",
       "      <td>blue</td>\n",
       "    </tr>\n",
       "    <tr>\n",
       "      <th>2</th>\n",
       "      <td>M</td>\n",
       "      <td>mestrado</td>\n",
       "      <td>casado</td>\n",
       "      <td>$80K - $120K</td>\n",
       "      <td>blue</td>\n",
       "    </tr>\n",
       "    <tr>\n",
       "      <th>4</th>\n",
       "      <td>M</td>\n",
       "      <td>sem educacao formal</td>\n",
       "      <td>casado</td>\n",
       "      <td>$60K - $80K</td>\n",
       "      <td>blue</td>\n",
       "    </tr>\n",
       "    <tr>\n",
       "      <th>5</th>\n",
       "      <td>M</td>\n",
       "      <td>mestrado</td>\n",
       "      <td>casado</td>\n",
       "      <td>$40K - $60K</td>\n",
       "      <td>blue</td>\n",
       "    </tr>\n",
       "  </tbody>\n",
       "</table>\n",
       "</div>"
      ],
      "text/plain": [
       "  sexo         escolaridade estado_civil   salario_anual tipo_cartao\n",
       "0    M         ensino medio       casado     $60K - $80K        blue\n",
       "1    F             mestrado     solteiro  menos que $40K        blue\n",
       "2    M             mestrado       casado    $80K - $120K        blue\n",
       "4    M  sem educacao formal       casado     $60K - $80K        blue\n",
       "5    M             mestrado       casado     $40K - $60K        blue"
      ]
     },
     "execution_count": 36,
     "metadata": {},
     "output_type": "execute_result"
    }
   ],
   "source": [
    "df.select_dtypes('object').head()"
   ]
  },
  {
   "cell_type": "markdown",
   "id": "e063008b",
   "metadata": {
    "papermill": {
     "duration": 0.022639,
     "end_time": "2024-03-13T23:35:42.137365",
     "exception": false,
     "start_time": "2024-03-13T23:35:42.114726",
     "status": "completed"
    },
    "tags": []
   },
   "source": [
    "**Escolaridade**"
   ]
  },
  {
   "cell_type": "code",
   "execution_count": 37,
   "id": "a225e7ce",
   "metadata": {
    "execution": {
     "iopub.execute_input": "2024-03-13T23:35:42.185051Z",
     "iopub.status.busy": "2024-03-13T23:35:42.184644Z",
     "iopub.status.idle": "2024-03-13T23:35:43.053411Z",
     "shell.execute_reply": "2024-03-13T23:35:43.052175Z"
    },
    "papermill": {
     "duration": 0.895786,
     "end_time": "2024-03-13T23:35:43.056135",
     "exception": false,
     "start_time": "2024-03-13T23:35:42.160349",
     "status": "completed"
    },
    "tags": []
   },
   "outputs": [
    {
     "data": {
      "image/png": "[encoded data removed]",
      "text/plain": [
       "<Figure size 2000x500 with 3 Axes>"
      ]
     },
     "metadata": {},
     "output_type": "display_data"
    }
   ],
   "source": [
    "coluna = \"escolaridade\"\n",
    "titulos = [\n",
    "    \"Escolaridade dos Clientes\",\n",
    "    \"Escolaridade dos Clientes Adimplentes\",\n",
    "    \"Escolaridade dos Clientes Inadimplentes\",\n",
    "]\n",
    "\n",
    "max_y = 0\n",
    "figura, eixos = plt.subplots(1, 3, figsize=(20, 5), sharex=True)\n",
    "\n",
    "for eixo, dataframe in enumerate([df, df_adimplente, df_inadimplente]):\n",
    "    df_to_plot = dataframe[coluna].value_counts().reset_index()\n",
    "    df_to_plot.columns = [coluna, \"frequencia_absoluta\"]\n",
    "    df_to_plot.sort_values(by=[coluna], inplace=True)\n",
    "\n",
    "    f = sns.barplot(data=df_to_plot, x=coluna, y=\"frequencia_absoluta\", ax=eixos[eixo])\n",
    "    f.set(title=titulos[eixo], xlabel=coluna.capitalize(), ylabel=\"Frequência Absoluta\")\n",
    "    f.set_xticklabels(labels=f.get_xticklabels(), rotation=90)\n",
    "\n",
    "    _, max_y_f = f.get_ylim()\n",
    "    max_y = max_y_f if max_y_f > max_y else max_y\n",
    "\n",
    "for eixo in eixos:\n",
    "    eixo.set(ylim=(0, max_y))\n",
    "\n",
    "plt.show()\n",
    "\n"
   ]
  },
  {
   "cell_type": "markdown",
   "id": "371a2f5f",
   "metadata": {
    "papermill": {
     "duration": 0.023592,
     "end_time": "2024-03-13T23:35:43.103680",
     "exception": false,
     "start_time": "2024-03-13T23:35:43.080088",
     "status": "completed"
    },
    "tags": []
   },
   "source": [
    "Após a visualização dos gráficos é possível afirmar que não existe nenhum tipo de relacionamento da variável 'Default' com o nível de escolaridade da base de dados dos clientes."
   ]
  },
  {
   "cell_type": "markdown",
   "id": "59b389ec",
   "metadata": {
    "papermill": {
     "duration": 0.023619,
     "end_time": "2024-03-13T23:35:43.151229",
     "exception": false,
     "start_time": "2024-03-13T23:35:43.127610",
     "status": "completed"
    },
    "tags": []
   },
   "source": [
    "Agora iremos visualizar e analisar o impacto do Salário Anual dos Clientes:"
   ]
  },
  {
   "cell_type": "code",
   "execution_count": 38,
   "id": "600264d9",
   "metadata": {
    "execution": {
     "iopub.execute_input": "2024-03-13T23:35:43.201274Z",
     "iopub.status.busy": "2024-03-13T23:35:43.200858Z",
     "iopub.status.idle": "2024-03-13T23:35:44.188595Z",
     "shell.execute_reply": "2024-03-13T23:35:44.187393Z"
    },
    "papermill": {
     "duration": 1.016559,
     "end_time": "2024-03-13T23:35:44.191804",
     "exception": false,
     "start_time": "2024-03-13T23:35:43.175245",
     "status": "completed"
    },
    "tags": []
   },
   "outputs": [
    {
     "data": {
      "image/png": "[encoded data removed]",
      "text/plain": [
       "<Figure size 2000x500 with 3 Axes>"
      ]
     },
     "metadata": {},
     "output_type": "display_data"
    }
   ],
   "source": [
    "coluna = \"salario_anual\"\n",
    "titulos = [\n",
    "    \"Salário Anual dos Clientes\",\n",
    "    \"Salário Anual dos Clientes Adimplentes\",\n",
    "    \"Salário Anual dos Clientes Inadimplentes\",\n",
    "]\n",
    "\n",
    "max_y = 0\n",
    "figura, eixos = plt.subplots(1, 3, figsize=(20, 5), sharex=True)\n",
    "\n",
    "for eixo, dataframe in enumerate([df, df_adimplente, df_inadimplente]):\n",
    "    df_to_plot = dataframe[coluna].value_counts().reset_index()\n",
    "    df_to_plot.columns = [coluna, \"frequencia_absoluta\"]\n",
    "    df_to_plot.sort_values(by=[coluna], inplace=True)\n",
    "\n",
    "    f = sns.barplot(data=df_to_plot, x=coluna, y=\"frequencia_absoluta\", ax=eixos[eixo])\n",
    "    f.set(title=titulos[eixo], xlabel=coluna.capitalize(), ylabel=\"Frequência Absoluta\")\n",
    "    f.set_xticklabels(labels=f.get_xticklabels(), rotation=90)\n",
    "\n",
    "    _, max_y_f = f.get_ylim()\n",
    "    max_y = max_y_f if max_y_f > max_y else max_y\n",
    "\n",
    "for eixo in eixos:\n",
    "    eixo.set(ylim=(0, max_y))\n",
    "\n",
    "plt.show()\n"
   ]
  },
  {
   "cell_type": "markdown",
   "id": "ff08d47a",
   "metadata": {
    "papermill": {
     "duration": 0.024357,
     "end_time": "2024-03-13T23:35:44.241356",
     "exception": false,
     "start_time": "2024-03-13T23:35:44.216999",
     "status": "completed"
    },
    "tags": []
   },
   "source": [
    "**Visualizações numéricas:**"
   ]
  },
  {
   "cell_type": "code",
   "execution_count": 39,
   "id": "04c67093",
   "metadata": {
    "execution": {
     "iopub.execute_input": "2024-03-13T23:35:44.292880Z",
     "iopub.status.busy": "2024-03-13T23:35:44.292106Z",
     "iopub.status.idle": "2024-03-13T23:35:44.310681Z",
     "shell.execute_reply": "2024-03-13T23:35:44.309413Z"
    },
    "papermill": {
     "duration": 0.047335,
     "end_time": "2024-03-13T23:35:44.313476",
     "exception": false,
     "start_time": "2024-03-13T23:35:44.266141",
     "status": "completed"
    },
    "tags": []
   },
   "outputs": [
    {
     "data": {
      "text/html": [
       "<div>\n",
       "<style scoped>\n",
       "    .dataframe tbody tr th:only-of-type {\n",
       "        vertical-align: middle;\n",
       "    }\n",
       "\n",
       "    .dataframe tbody tr th {\n",
       "        vertical-align: top;\n",
       "    }\n",
       "\n",
       "    .dataframe thead th {\n",
       "        text-align: right;\n",
       "    }\n",
       "</style>\n",
       "<table border=\"1\" class=\"dataframe\">\n",
       "  <thead>\n",
       "    <tr style=\"text-align: right;\">\n",
       "      <th></th>\n",
       "      <th>idade</th>\n",
       "      <th>dependentes</th>\n",
       "      <th>meses_de_relacionamento</th>\n",
       "      <th>qtd_produtos</th>\n",
       "      <th>iteracoes_12m</th>\n",
       "      <th>meses_inativo_12m</th>\n",
       "      <th>limite_credito</th>\n",
       "      <th>valor_transacoes_12m</th>\n",
       "      <th>qtd_transacoes_12m</th>\n",
       "    </tr>\n",
       "  </thead>\n",
       "  <tbody>\n",
       "    <tr>\n",
       "      <th>0</th>\n",
       "      <td>45</td>\n",
       "      <td>3</td>\n",
       "      <td>39</td>\n",
       "      <td>5</td>\n",
       "      <td>3</td>\n",
       "      <td>1</td>\n",
       "      <td>12691.51</td>\n",
       "      <td>1144.90</td>\n",
       "      <td>42</td>\n",
       "    </tr>\n",
       "    <tr>\n",
       "      <th>1</th>\n",
       "      <td>49</td>\n",
       "      <td>5</td>\n",
       "      <td>44</td>\n",
       "      <td>6</td>\n",
       "      <td>2</td>\n",
       "      <td>1</td>\n",
       "      <td>8256.96</td>\n",
       "      <td>1291.45</td>\n",
       "      <td>33</td>\n",
       "    </tr>\n",
       "    <tr>\n",
       "      <th>2</th>\n",
       "      <td>51</td>\n",
       "      <td>3</td>\n",
       "      <td>36</td>\n",
       "      <td>4</td>\n",
       "      <td>0</td>\n",
       "      <td>1</td>\n",
       "      <td>3418.56</td>\n",
       "      <td>1887.72</td>\n",
       "      <td>20</td>\n",
       "    </tr>\n",
       "    <tr>\n",
       "      <th>4</th>\n",
       "      <td>40</td>\n",
       "      <td>3</td>\n",
       "      <td>21</td>\n",
       "      <td>5</td>\n",
       "      <td>0</td>\n",
       "      <td>1</td>\n",
       "      <td>4716.22</td>\n",
       "      <td>816.08</td>\n",
       "      <td>28</td>\n",
       "    </tr>\n",
       "    <tr>\n",
       "      <th>5</th>\n",
       "      <td>44</td>\n",
       "      <td>2</td>\n",
       "      <td>36</td>\n",
       "      <td>3</td>\n",
       "      <td>2</td>\n",
       "      <td>1</td>\n",
       "      <td>4010.69</td>\n",
       "      <td>1088.07</td>\n",
       "      <td>24</td>\n",
       "    </tr>\n",
       "  </tbody>\n",
       "</table>\n",
       "</div>"
      ],
      "text/plain": [
       "   idade  dependentes  meses_de_relacionamento  qtd_produtos  iteracoes_12m  \\\n",
       "0     45            3                       39             5              3   \n",
       "1     49            5                       44             6              2   \n",
       "2     51            3                       36             4              0   \n",
       "4     40            3                       21             5              0   \n",
       "5     44            2                       36             3              2   \n",
       "\n",
       "   meses_inativo_12m  limite_credito  valor_transacoes_12m  qtd_transacoes_12m  \n",
       "0                  1        12691.51               1144.90                  42  \n",
       "1                  1         8256.96               1291.45                  33  \n",
       "2                  1         3418.56               1887.72                  20  \n",
       "4                  1         4716.22                816.08                  28  \n",
       "5                  1         4010.69               1088.07                  24  "
      ]
     },
     "execution_count": 39,
     "metadata": {},
     "output_type": "execute_result"
    }
   ],
   "source": [
    "df.drop(['id', 'default'], axis=1).select_dtypes('number').head()"
   ]
  },
  {
   "cell_type": "markdown",
   "id": "9a1b3495",
   "metadata": {
    "papermill": {
     "duration": 0.02957,
     "end_time": "2024-03-13T23:35:44.371282",
     "exception": false,
     "start_time": "2024-03-13T23:35:44.341712",
     "status": "completed"
    },
    "tags": []
   },
   "source": [
    "Visualizando o impacto da Quantidade de Transações nos Últimos 12 meses:"
   ]
  },
  {
   "cell_type": "code",
   "execution_count": 40,
   "id": "1d345c74",
   "metadata": {
    "execution": {
     "iopub.execute_input": "2024-03-13T23:35:44.426179Z",
     "iopub.status.busy": "2024-03-13T23:35:44.425782Z",
     "iopub.status.idle": "2024-03-13T23:35:45.881934Z",
     "shell.execute_reply": "2024-03-13T23:35:45.880706Z"
    },
    "papermill": {
     "duration": 1.487579,
     "end_time": "2024-03-13T23:35:45.884527",
     "exception": false,
     "start_time": "2024-03-13T23:35:44.396948",
     "status": "completed"
    },
    "tags": []
   },
   "outputs": [
    {
     "name": "stderr",
     "output_type": "stream",
     "text": [
      "/opt/conda/lib/python3.10/site-packages/seaborn/_oldcore.py:1119: FutureWarning: use_inf_as_na option is deprecated and will be removed in a future version. Convert inf values to NaN before operating instead.\n",
      "  with pd.option_context('mode.use_inf_as_na', True):\n",
      "/opt/conda/lib/python3.10/site-packages/seaborn/_oldcore.py:1119: FutureWarning: use_inf_as_na option is deprecated and will be removed in a future version. Convert inf values to NaN before operating instead.\n",
      "  with pd.option_context('mode.use_inf_as_na', True):\n",
      "/opt/conda/lib/python3.10/site-packages/seaborn/_oldcore.py:1119: FutureWarning: use_inf_as_na option is deprecated and will be removed in a future version. Convert inf values to NaN before operating instead.\n",
      "  with pd.option_context('mode.use_inf_as_na', True):\n"
     ]
    },
    {
     "data": {
      "image/png": "[encoded data removed]",
      "text/plain": [
       "<Figure size 2000x500 with 3 Axes>"
      ]
     },
     "metadata": {},
     "output_type": "display_data"
    }
   ],
   "source": [
    "coluna = 'qtd_transacoes_12m'\n",
    "titulos = ['Qtd. de Transações no último ano', 'Qtd. de Transações no último ano dos Cliente Adimplentes', 'Qtd. de Transações no último ano dos Clientes Inadimplentes']\n",
    "\n",
    "eixo = 0\n",
    "max_y = 0\n",
    "figura, eixos = plt.subplots(1,3, figsize=(20, 5), sharex=True)\n",
    "\n",
    "for dataframe in [df, df_adimplente, df_inadimplente]:\n",
    "  f = sns.histplot(x=coluna, data=dataframe, stat='count', ax=eixos[eixo])\n",
    "  f.set(title=titulos[eixo], xlabel=coluna.capitalize(), ylabel='Frequência Absoluta')\n",
    "\n",
    "  _, max_y_f = f.get_ylim()\n",
    "  max_y = max_y_f if max_y_f > max_y else max_y\n",
    "  f.set(ylim=(0, max_y))\n",
    "  \n",
    "  eixo += 1\n",
    "\n",
    "figura.show()"
   ]
  },
  {
   "cell_type": "markdown",
   "id": "b98732c4",
   "metadata": {
    "papermill": {
     "duration": 0.025818,
     "end_time": "2024-03-13T23:35:45.936468",
     "exception": false,
     "start_time": "2024-03-13T23:35:45.910650",
     "status": "completed"
    },
    "tags": []
   },
   "source": [
    "Após análise, existe a possibilidade de comportamento recorrente de clientes que fazem entre 20 a 40 transações por ano de serem inadimplentes"
   ]
  },
  {
   "cell_type": "markdown",
   "id": "b65511bb",
   "metadata": {
    "papermill": {
     "duration": 0.026268,
     "end_time": "2024-03-13T23:35:45.988745",
     "exception": false,
     "start_time": "2024-03-13T23:35:45.962477",
     "status": "completed"
    },
    "tags": []
   },
   "source": [
    "Visualizando o impacto do Valor de Transações nos Últimos 12 meses:"
   ]
  },
  {
   "cell_type": "code",
   "execution_count": 41,
   "id": "a45c83a2",
   "metadata": {
    "execution": {
     "iopub.execute_input": "2024-03-13T23:35:46.043145Z",
     "iopub.status.busy": "2024-03-13T23:35:46.042720Z",
     "iopub.status.idle": "2024-03-13T23:35:47.774303Z",
     "shell.execute_reply": "2024-03-13T23:35:47.773133Z"
    },
    "papermill": {
     "duration": 1.761689,
     "end_time": "2024-03-13T23:35:47.776931",
     "exception": false,
     "start_time": "2024-03-13T23:35:46.015242",
     "status": "completed"
    },
    "tags": []
   },
   "outputs": [
    {
     "name": "stderr",
     "output_type": "stream",
     "text": [
      "/opt/conda/lib/python3.10/site-packages/seaborn/_oldcore.py:1119: FutureWarning: use_inf_as_na option is deprecated and will be removed in a future version. Convert inf values to NaN before operating instead.\n",
      "  with pd.option_context('mode.use_inf_as_na', True):\n",
      "/opt/conda/lib/python3.10/site-packages/seaborn/_oldcore.py:1119: FutureWarning: use_inf_as_na option is deprecated and will be removed in a future version. Convert inf values to NaN before operating instead.\n",
      "  with pd.option_context('mode.use_inf_as_na', True):\n",
      "/opt/conda/lib/python3.10/site-packages/seaborn/_oldcore.py:1119: FutureWarning: use_inf_as_na option is deprecated and will be removed in a future version. Convert inf values to NaN before operating instead.\n",
      "  with pd.option_context('mode.use_inf_as_na', True):\n"
     ]
    },
    {
     "data": {
      "image/png": "[encoded data removed]",
      "text/plain": [
       "<Figure size 2000x500 with 3 Axes>"
      ]
     },
     "metadata": {},
     "output_type": "display_data"
    }
   ],
   "source": [
    "coluna = 'valor_transacoes_12m'\n",
    "titulos = ['Valor dedas Transações no último ano', 'Valor dedas Transações no último ano dos Cliente Adimplentes', 'Valor dedas Transações no último ano dos Clientes Inadimplentes']\n",
    "\n",
    "eixo = 0\n",
    "max_y = 0\n",
    "figura, eixos = plt.subplots(1,3, figsize=(20, 5), sharex=True)\n",
    "\n",
    "for dataframe in [df, df_adimplente, df_inadimplente]:\n",
    "  f = sns.histplot(x=coluna, data=dataframe, stat='count', ax=eixos[eixo])\n",
    "  f.set(title=titulos[eixo], xlabel=coluna.capitalize(), ylabel='Frequência Absoluta')\n",
    "\n",
    "  _, max_y_f = f.get_ylim()\n",
    "  max_y = max_y_f if max_y_f > max_y else max_y\n",
    "  f.set(ylim=(0, max_y))\n",
    "  \n",
    "  eixo += 1\n",
    "\n",
    "figura.show()"
   ]
  },
  {
   "cell_type": "markdown",
   "id": "b2c30829",
   "metadata": {
    "papermill": {
     "duration": 0.026838,
     "end_time": "2024-03-13T23:35:47.830605",
     "exception": false,
     "start_time": "2024-03-13T23:35:47.803767",
     "status": "completed"
    },
    "tags": []
   },
   "source": [
    "Comparando os dados de Transações nos Últimos 12 Meses x Quantidade de transações nos Últimos 12 Meses"
   ]
  },
  {
   "cell_type": "code",
   "execution_count": 42,
   "id": "84679dfd",
   "metadata": {
    "execution": {
     "iopub.execute_input": "2024-03-13T23:35:47.887703Z",
     "iopub.status.busy": "2024-03-13T23:35:47.887150Z",
     "iopub.status.idle": "2024-03-13T23:35:49.611404Z",
     "shell.execute_reply": "2024-03-13T23:35:49.610076Z"
    },
    "papermill": {
     "duration": 1.756675,
     "end_time": "2024-03-13T23:35:49.615490",
     "exception": false,
     "start_time": "2024-03-13T23:35:47.858815",
     "status": "completed"
    },
    "tags": []
   },
   "outputs": [
    {
     "data": {
      "image/png": "[encoded data removed]",
      "text/plain": [
       "<Figure size 560.236x500 with 1 Axes>"
      ]
     },
     "metadata": {},
     "output_type": "display_data"
    }
   ],
   "source": [
    "f = sns.relplot(x='valor_transacoes_12m', y='qtd_transacoes_12m', data=df, hue='default')"
   ]
  },
  {
   "cell_type": "markdown",
   "id": "c3b4625f",
   "metadata": {
    "papermill": {
     "duration": 0.029075,
     "end_time": "2024-03-13T23:35:49.673560",
     "exception": false,
     "start_time": "2024-03-13T23:35:49.644485",
     "status": "completed"
    },
    "tags": []
   },
   "source": [
    "# Fase 6: Conclusões e Insights:"
   ]
  },
  {
   "cell_type": "markdown",
   "id": "a65321f0",
   "metadata": {
    "papermill": {
     "duration": 0.029066,
     "end_time": "2024-03-13T23:35:49.731877",
     "exception": false,
     "start_time": "2024-03-13T23:35:49.702811",
     "status": "completed"
    },
    "tags": []
   },
   "source": [
    "A análise iniciou-se com a investigação da proporção de clientes adimplentes e inadimplentes, revelando uma distribuição equilibrada entre os dois grupos. Este equilíbrio apontou para a complexidade dos fatores que influenciam a capacidade de pagamento dos clientes."
   ]
  },
  {
   "cell_type": "markdown",
   "id": "5c3c0a1b",
   "metadata": {
    "papermill": {
     "duration": 0.028659,
     "end_time": "2024-03-13T23:35:49.789888",
     "exception": false,
     "start_time": "2024-03-13T23:35:49.761229",
     "status": "completed"
    },
    "tags": []
   },
   "source": [
    "Ao corrigir esquemas de colunas e realizar a limpeza de dados, assegurou a precisão nas análises subsequentes. A remoção de dados faltantes e a normalização de variáveis numéricas, como limite de crédito e valor das transações nos últimos 12 meses, foram etapas cruciais para a validade dos resultados."
   ]
  },
  {
   "cell_type": "markdown",
   "id": "64ef658b",
   "metadata": {
    "papermill": {
     "duration": 0.029037,
     "end_time": "2024-03-13T23:35:49.848544",
     "exception": false,
     "start_time": "2024-03-13T23:35:49.819507",
     "status": "completed"
    },
    "tags": []
   },
   "source": [
    "As visualizações geradas desempenharam um papel fundamental na descoberta de padrões e na geração de insights. A análise da escolaridade, do salário anual e do estado civil, através de gráficos de barras, não indicou uma relação direta com a inadimplência, sugerindo que outros fatores possam ter um impacto maior sobre a capacidade de pagamento."
   ]
  },
  {
   "cell_type": "markdown",
   "id": "a0458b09",
   "metadata": {
    "papermill": {
     "duration": 0.028518,
     "end_time": "2024-03-13T23:35:49.906016",
     "exception": false,
     "start_time": "2024-03-13T23:35:49.877498",
     "status": "completed"
    },
    "tags": []
   },
   "source": [
    "Contudo, a investigação sobre a quantidade e o valor das transações nos últimos 12 meses trouxe à luz padrões mais claros. Os histogramas e gráficos de dispersão indicaram que clientes com uma quantidade intermediária de transações por ano tendem a ter maior probabilidade de inadimplência. Além disso, a relação entre o valor das transações e a quantidade de transações forneceu uma compreensão mais aprofundada do comportamento de gastos dos clientes, destacando diferenças significativas entre os grupos adimplentes e inadimplentes."
   ]
  },
  {
   "cell_type": "markdown",
   "id": "73a2507c",
   "metadata": {
    "papermill": {
     "duration": 0.028823,
     "end_time": "2024-03-13T23:35:49.963893",
     "exception": false,
     "start_time": "2024-03-13T23:35:49.935070",
     "status": "completed"
    },
    "tags": []
   },
   "source": [
    "Embora alguns fatores demográficos não tenham demonstrado uma correlação direta com o pagamento das dívidas, as tendências observadas nas transações financeiras dos clientes ofereceram insights valiosos, abrindo caminho para futuras investigações e estratégias de gestão de crédito mais eficazes."
   ]
  }
 ],
 "metadata": {
  "kaggle": {
   "accelerator": "none",
   "dataSources": [
    {
     "datasetId": 4581536,
     "sourceId": 7819848,
     "sourceType": "datasetVersion"
    }
   ],
   "dockerImageVersionId": 30664,
   "isGpuEnabled": false,
   "isInternetEnabled": false,
   "language": "python",
   "sourceType": "notebook"
  },
  "kernelspec": {
   "display_name": "Python 3",
   "language": "python",
   "name": "python3"
  },
  "language_info": {
   "codemirror_mode": {
    "name": "ipython",
    "version": 3
   },
   "file_extension": ".py",
   "mimetype": "text/x-python",
   "name": "python",
   "nbconvert_exporter": "python",
   "pygments_lexer": "ipython3",
   "version": "3.10.13"
  },
  "papermill": {
   "default_parameters": {},
   "duration": 16.759475,
   "end_time": "2024-03-13T23:35:50.614347",
   "environment_variables": {},
   "exception": null,
   "input_path": "__notebook__.ipynb",
   "output_path": "__notebook__.ipynb",
   "parameters": {},
   "start_time": "2024-03-13T23:35:33.854872",
   "version": "2.5.0"
  }
 },
 "nbformat": 4,
 "nbformat_minor": 5
}
